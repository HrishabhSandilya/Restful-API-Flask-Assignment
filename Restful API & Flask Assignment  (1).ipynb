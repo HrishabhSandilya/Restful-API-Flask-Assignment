{
 "cells": [
  {
   "cell_type": "code",
   "execution_count": 1,
   "id": "55ab5469-3826-4cb0-a57d-81708a0fe659",
   "metadata": {},
   "outputs": [],
   "source": [
    "# Restful API & Flask                                             \"NOTE\":('---#' this sign is the answer of theory questions )"
   ]
  },
  {
   "cell_type": "code",
   "execution_count": null,
   "id": "7d493e9a-e17d-4919-b2cd-4fc939de736d",
   "metadata": {},
   "outputs": [],
   "source": [
    "# Q.NO.1. What is a RESTful API?\n",
    "\n",
    "---# A RESTful API (Representational State Transfer API) is a web service that follows the principles of REST architecture, allowing systems to communicate over the internet using standard HTTP methods."
   ]
  },
  {
   "cell_type": "code",
   "execution_count": null,
   "id": "090c8d2d-a728-4a0d-9e13-139271050994",
   "metadata": {},
   "outputs": [],
   "source": [
    "# Q.NO.2. Explain the concept of API specification.\n",
    "\n",
    "---# An API specification is a detailed, formal description of how an API works. It defines what endpoints are available, how clients should interact with them, and what responses to expect."
   ]
  },
  {
   "cell_type": "code",
   "execution_count": null,
   "id": "657dc62c-8202-421b-81fe-46af48a83f75",
   "metadata": {},
   "outputs": [],
   "source": [
    "# Q.NO.3.  What is Flask, and why is it popular for building APIs?\n",
    "\n",
    "---# Flask is a lightweight web framework for Python used to build web applications and APIs. It’s known for being simple, flexible, and minimal, which makes it an excellent choice for building RESTful APIs quickly and efficiently.\n",
    "\n",
    "# It is popular for building APIs because:\n",
    "    #(i) Lightweight and Minimalistic\n",
    "    #(ii) Easy to Learn and Use\n",
    "    #(iii) Supports RESTful Routing\n",
    "    #(iv) Flexible Structure\n",
    "    #(v) Large Ecosystem and Extensions"
   ]
  },
  {
   "cell_type": "code",
   "execution_count": null,
   "id": "719f70cb-40cf-4868-baf5-d534db0344bb",
   "metadata": {},
   "outputs": [],
   "source": [
    "# Q.NO.4.What is routing in Flask?\n",
    "\n",
    "---# In Flask, routing refers to the process of associating URLs (web addresses) with specific functions in your Python code. These functions are called view functions, and they determine what response should be sent back to the user when a specific URL is accessed."
   ]
  },
  {
   "cell_type": "code",
   "execution_count": null,
   "id": "b504342a-2bff-45d7-be39-d6b38c2ac7bb",
   "metadata": {},
   "outputs": [],
   "source": [
    "# Q.NO.5. How do you create a simple Flask application?\n",
    "\n",
    "---# 1.\tInstall Flask using pip install flask\n",
    "    #2.\tCreate app.py and define routes using @app.route()\n",
    "    #3.\tRun with python app.py\n",
    "    #4.\tVisit in browser (usually http://localhost:5000/)"
   ]
  },
  {
   "cell_type": "code",
   "execution_count": null,
   "id": "891dc15b-3f3e-4fd1-859d-529f8ac8cc7e",
   "metadata": {},
   "outputs": [],
   "source": [
    "# Q.NO.6. What are HTTP methods used in RESTful APIs?\n",
    "\n",
    "---# 1. Get\n",
    "    #2. Post\n",
    "    #3. Put\n",
    "    #4. Delete\n",
    "    #5. Patch"
   ]
  },
  {
   "cell_type": "code",
   "execution_count": null,
   "id": "9c42baf1-6d1a-4dd9-a2ea-b2f9dd2ff366",
   "metadata": {},
   "outputs": [],
   "source": [
    "# Q.NO.7. What is the purpose of the @app.route() decorator in Flask?\n",
    "\n",
    "---# The @app.route() decorator in Flask is used to bind a URL path to a specific Python function, called a view function.\n",
    "# Purpose: When a user accesses this URL, run this function and return the result.\""
   ]
  },
  {
   "cell_type": "code",
   "execution_count": null,
   "id": "1d23a6a8-26c0-4eb1-a785-8a23b8ec27e1",
   "metadata": {},
   "outputs": [],
   "source": [
    "# Q.NO.8. What is the difference between GET and POST HTTP methods?\n",
    "\n",
    "---#   GET\n",
    "\n",
    "    # Feature\t                                Description\n",
    "    # Purpose\t                          Retrieve data from the server\n",
    "    # Data Location\t                  Data is sent in the URL (as query parameters)\n",
    "    # Visibility\t                      Data is visible in the browser URL\n",
    "    # Security\t                      Less secure (sensitive data should not be sent)\n",
    "    # Caching\t                          GET requests can be cached\n",
    "    # Idempotent\t                   Yes – multiple requests have the same effect\n",
    "    # Use Case\t                       Reading data (e.g., searching, fetching user info)\n",
    "\n",
    "  #   POST\n",
    "\n",
    "    # Feature\t                                 Description\n",
    "    # Purpose\t                    Submit data to the server to create a resource or perform an action\n",
    "    # Data Location                  \tData is sent in the request body\n",
    "    # Visibility\t                    Data is not visible in the URL\n",
    "    # Security\t                      More secure than GET for sending sensitive data\n",
    "    # Caching\t                          POST requests are not cached\n",
    "    # Idempotent\t                No – sending the same request multiple times may cause duplicates\n",
    "    # Use Case\t                    Creating resources (e.g., sign-up, submitting forms)"
   ]
  },
  {
   "cell_type": "code",
   "execution_count": null,
   "id": "0945b520-d009-488d-a9c4-5fda16988a06",
   "metadata": {},
   "outputs": [],
   "source": [
    "# Q.NO.9.  How do you handle errors in Flask APIs?\n",
    "\n",
    "---#        Method                               Use Case                         \n",
    "\n",
    "    #  `@app.errorhandler()`            Handle HTTP error codes globally \n",
    "    # `abort(status_code)`              Manually raise HTTP errors       \n",
    "    # `try-except` block                Catch and handle exceptions      \n",
    "    # Custom Exception classe           Structured and reusable errors   "
   ]
  },
  {
   "cell_type": "code",
   "execution_count": null,
   "id": "97d383aa-60fd-4da0-a9a9-055f7c7bde42",
   "metadata": {},
   "outputs": [],
   "source": [
    "# Q.NO.10. How do you connect Flask to a SQL database?\n",
    "\n",
    "---# To connect Flask to a SQL database, you typically use an ORM (Object Relational Mapper) like SQLAlchemy or a database driver like sqlite3 or psycopg2. The most common and flexible way is using Flask-SQLAlchemy, which integrates SQLAlchemy with Flask easily."
   ]
  },
  {
   "cell_type": "code",
   "execution_count": null,
   "id": "3f23c1ed-4e87-4bec-b60c-6aa04f9fb380",
   "metadata": {},
   "outputs": [],
   "source": [
    "# Q.NO.11. What is the role of Flask-SQLAlchemy?\n",
    "\n",
    "---# Flask-SQLAlchemy is an extension for Flask that simplifies the use of SQLAlchemy (a powerful SQL toolkit and ORM) within a Flask application. It acts as a bridge between Flask and SQLAlchemy, making it easier to manage database operations using Python classes instead of raw SQL."
   ]
  },
  {
   "cell_type": "code",
   "execution_count": null,
   "id": "27ab6ba5-f016-4a87-b35e-7a7b8a60a0a0",
   "metadata": {},
   "outputs": [],
   "source": [
    "# Q.NO.12. What are Flask blueprints, and how are they useful?\n",
    "\n",
    "---# In Flask, Blueprints are a way to organize your application into modular components. A Blueprint is like a mini Flask app—it allows you to define routes, error handlers, templates, and static files in a self-contained way and then register them with your main application."
   ]
  },
  {
   "cell_type": "code",
   "execution_count": null,
   "id": "c0ca48e5-4c66-4bd1-94de-487bd68b3ba3",
   "metadata": {},
   "outputs": [],
   "source": [
    "# Q.NO.13. What is the purpose of Flask's request object?\n",
    "\n",
    "---# The request object in Flask is used to access incoming request data sent by the client (such as a web browser or API client). It is provided by the Flask module and contains all the details of the HTTP request made to the server."
   ]
  },
  {
   "cell_type": "code",
   "execution_count": null,
   "id": "a298799d-0788-4457-897c-2c4a1a46f994",
   "metadata": {},
   "outputs": [],
   "source": [
    "# Q.NO.14. How do you create a RESTful API endpoint using Flask?\n",
    "\n",
    "---# Creating a RESTful API endpoint in Flask involves:\n",
    "    # (i)Setting up a Flask app\n",
    "    # (ii)Defining routes that handle HTTP methods (GET, POST, etc.)\n",
    "    # (iii)Returning data in JSON format"
   ]
  },
  {
   "cell_type": "code",
   "execution_count": null,
   "id": "87871e71-b1f7-41f4-af4b-f6326294ed3a",
   "metadata": {},
   "outputs": [],
   "source": [
    "# Q.NO.15. M What is the purpose of Flask's jsonify() function?\n",
    "\n",
    "---# The jsonify() function in Flask is used to convert Python data structures (like dictionaries, lists) into a valid JSON response object that can be returned from a Flask route."
   ]
  },
  {
   "cell_type": "code",
   "execution_count": null,
   "id": "229755fb-9430-4c53-bd64-a6e79ef40730",
   "metadata": {},
   "outputs": [],
   "source": [
    "# Q.NO.16. Explain Flask’s url_for() function.\n",
    "\n",
    "---# The url_for() function in Flask is used to dynamically generate URLs for your view functions based on their function names, not hardcoded paths."
   ]
  },
  {
   "cell_type": "code",
   "execution_count": null,
   "id": "a18d083a-a434-4783-824d-82e0047cdb03",
   "metadata": {},
   "outputs": [],
   "source": [
    "# Q.NO.17. M How does Flask handle static files (CSS, JavaScript, etc.)?\n",
    "\n",
    "---#  Feature                                 Description                                          \n",
    "\n",
    "    # Folder                           Flask uses `static/` by default                      \n",
    "    # Purpose                          Serve CSS, JS, images, fonts, etc.                   \n",
    "    # Access                       Use `url_for('static', filename='...')` in templates \n",
    "    # Auto-served                     Flask handles routing for static files automatically "
   ]
  },
  {
   "cell_type": "code",
   "execution_count": null,
   "id": "bbff4236-f9da-4770-82c0-dbb8aa712fa8",
   "metadata": {},
   "outputs": [],
   "source": [
    "# Q.NO.18.  What is an API specification, and how does it help in building a Flask API?\n",
    "\n",
    "---# An API specification is a formal, structured description of how an API works — it defines the endpoints, methods, request parameters, data formats, responses, and possible errors of an API.\n",
    "    # Think of it as a contract between the frontend/client and the backend server."
   ]
  },
  {
   "cell_type": "code",
   "execution_count": null,
   "id": "23314402-46bb-4b1d-bf2c-d3340e17e8dc",
   "metadata": {},
   "outputs": [],
   "source": [
    "# Q.NO.19. What are HTTP status codes, and why are they important in a Flask API?\n",
    "\n",
    "---# HTTP status codes are 3-digit numbers returned by a server in response to a client’s request. They indicate whether the request was successful, failed, or needs further action.\n",
    "\n",
    "#                Purpose                               Description                                                   \n",
    "\n",
    "    #Communicate Result Clearly                Tell the client if the request was successful or failed       \n",
    "    # Help in Testing & Debugging              Help developers and tools (e.g. Postman) understand responses \n",
    "    # Indicate Authorization Issues            Useful for login, access control, and permissions             \n",
    "    # Enable Standardized Behavior             Clients know how to react based on status codes               "
   ]
  },
  {
   "cell_type": "code",
   "execution_count": null,
   "id": "ed823324-d8c2-4e3c-94d9-88e005346f12",
   "metadata": {},
   "outputs": [],
   "source": [
    "# Q.NO.20. How do you handle POST requests in Flask?\n",
    "\n",
    "---# In Flask, handling a POST request means writing a route that listens for POST and then processes the data sent by the client — usually in form data or JSON format."
   ]
  },
  {
   "cell_type": "code",
   "execution_count": null,
   "id": "1881f7a1-5c64-4c5a-bc09-1715695e96de",
   "metadata": {},
   "outputs": [],
   "source": [
    "# Q.NO.21. How would you secure a Flask API?\n",
    "\n",
    "---# Securing a Flask API is essential to protect sensitive data and ensure only authorized clients can access your services. Here are the key techniques to secure a Flask API:\n",
    "    # (i)Use HTTPS (TLS)\n",
    "    # (ii)Authentication\n",
    "    # (iii)Authorization\n",
    "    # (iv)Input Validation & Sanitization\n",
    "    # (v)Error Handling"
   ]
  },
  {
   "cell_type": "code",
   "execution_count": null,
   "id": "a1d24b9f-4cd6-4f33-bb08-79404e5a4317",
   "metadata": {},
   "outputs": [],
   "source": [
    "# Q.NO.22. What is the significance of the Flask-RESTful extension?\n",
    "\n",
    "---# Flask-RESTful is an extension for Flask that helps you build RESTful APIs quickly and in a structured way. It provides tools to define resources, handle HTTP methods (GET, POST, etc.), and return consistent JSON responses — all with less boilerplate code."
   ]
  },
  {
   "cell_type": "code",
   "execution_count": null,
   "id": "2fc98fcc-ffa4-4ae9-b7de-43fb9844dab4",
   "metadata": {},
   "outputs": [],
   "source": [
    "# Q.NO.23. What is the role of Flask’s session object?\n",
    "\n",
    "---# Flask’s session object is used to store information about a user across multiple requests — i.e., to maintain state in a stateless HTTP environment.\n",
    "\n",
    "    # It’s commonly used to implement:\n",
    "     # (i)User login sessions\n",
    "     # (ii)Shopping carts\n",
    "     # (iii)Temporary user preferences (like language or theme)"
   ]
  },
  {
   "cell_type": "code",
   "execution_count": null,
   "id": "2e25b105-ea2f-49c7-a031-531b6f4e53cc",
   "metadata": {},
   "outputs": [],
   "source": [
    "# Practical"
   ]
  },
  {
   "cell_type": "code",
   "execution_count": null,
   "id": "973da842-5c0f-4d46-ac34-c8ed424229ab",
   "metadata": {},
   "outputs": [],
   "source": [
    "# Q.NO.1. How do you create a basic Flask application?"
   ]
  },
  {
   "cell_type": "code",
   "execution_count": 2,
   "id": "70f699ce-15a1-4d29-81f0-54626de10be1",
   "metadata": {},
   "outputs": [
    {
     "ename": "SyntaxError",
     "evalue": "invalid syntax (2408979063.py, line 1)",
     "output_type": "error",
     "traceback": [
      "  \u001b[36mCell\u001b[39m\u001b[36m \u001b[39m\u001b[32mIn[2]\u001b[39m\u001b[32m, line 1\u001b[39m\n\u001b[31m    \u001b[39m\u001b[31mpip install flask\u001b[39m\n        ^\n\u001b[31mSyntaxError\u001b[39m\u001b[31m:\u001b[39m invalid syntax\n"
     ]
    }
   ],
   "source": [
    "pip install flask\n",
    "\n",
    "from flask import Flask\n",
    "\n",
    "app = Flask(__name__)  \n",
    "\n",
    "@app.route('/')         \n",
    "def home():\n",
    "    return \"Welcome to Flask!\"\n",
    "\n",
    "if __name__ == '__main__':\n",
    "    app.run(debug=True)\n",
    "\n",
    "python app.py"
   ]
  },
  {
   "cell_type": "code",
   "execution_count": null,
   "id": "7a61aabf-621e-44f3-b92c-0943587fc318",
   "metadata": {},
   "outputs": [],
   "source": [
    "# Q.NO.2. How do you serve static files like images or CSS in Flask?"
   ]
  },
  {
   "cell_type": "code",
   "execution_count": 3,
   "id": "1315151a-fcd3-480f-88bb-33c5eae64739",
   "metadata": {},
   "outputs": [
    {
     "ename": "SyntaxError",
     "evalue": "invalid character '│' (U+2502) (3881969944.py, line 2)",
     "output_type": "error",
     "traceback": [
      "  \u001b[36mCell\u001b[39m\u001b[36m \u001b[39m\u001b[32mIn[3]\u001b[39m\u001b[32m, line 2\u001b[39m\n\u001b[31m    \u001b[39m\u001b[31m│\u001b[39m\n    ^\n\u001b[31mSyntaxError\u001b[39m\u001b[31m:\u001b[39m invalid character '│' (U+2502)\n"
     ]
    }
   ],
   "source": [
    "your_project/\n",
    "│\n",
    "├── app.py\n",
    "├── static/\n",
    "│   ├── style.css\n",
    "│   ├── script.js\n",
    "│   └── image.png\n",
    "└── templates/\n",
    "    └── index.html\n",
    "\n",
    "\n",
    "<!-- templates/index.html -->\n",
    "<!DOCTYPE html>\n",
    "<html>\n",
    "<head>\n",
    "    <title>Static Files in Flask</title>\n",
    "    <link rel=\"stylesheet\" href=\"{{ url_for('static', filename='style.css') }}\">\n",
    "</head>\n",
    "<body>\n",
    "    <h1>Hello Flask</h1>\n",
    "    <img src=\"{{ url_for('static', filename='image.png') }}\" alt=\"Sample Image\">\n",
    "    <script src=\"{{ url_for('static', filename='script.js') }}\"></script>\n",
    "</body>\n",
    "</html>\n",
    "\n",
    "from flask import Flask, render_template\n",
    "\n",
    "app = Flask(__name__)\n",
    "\n",
    "@app.route('/')\n",
    "def home():\n",
    "    return render_template('index.html')\n"
   ]
  },
  {
   "cell_type": "code",
   "execution_count": null,
   "id": "3866bf35-7fae-40f9-8da5-4aacbaf09d1d",
   "metadata": {},
   "outputs": [],
   "source": [
    "# Q.NO.3. How do you define different routes with different HTTP methods in Flask?"
   ]
  },
  {
   "cell_type": "code",
   "execution_count": 4,
   "id": "1881113e-88df-4445-a0c8-2161b54993b6",
   "metadata": {},
   "outputs": [
    {
     "ename": "ModuleNotFoundError",
     "evalue": "No module named 'flask'",
     "output_type": "error",
     "traceback": [
      "\u001b[31m---------------------------------------------------------------------------\u001b[39m",
      "\u001b[31mModuleNotFoundError\u001b[39m                       Traceback (most recent call last)",
      "\u001b[36mCell\u001b[39m\u001b[36m \u001b[39m\u001b[32mIn[4]\u001b[39m\u001b[32m, line 1\u001b[39m\n\u001b[32m----> \u001b[39m\u001b[32m1\u001b[39m \u001b[38;5;28;01mfrom\u001b[39;00m\u001b[38;5;250m \u001b[39m\u001b[34;01mflask\u001b[39;00m\u001b[38;5;250m \u001b[39m\u001b[38;5;28;01mimport\u001b[39;00m Flask, request, jsonify\n\u001b[32m      3\u001b[39m app = Flask(\u001b[34m__name__\u001b[39m)\n\u001b[32m      5\u001b[39m \u001b[38;5;129m@app\u001b[39m.route(\u001b[33m'\u001b[39m\u001b[33m/user\u001b[39m\u001b[33m'\u001b[39m, methods=[\u001b[33m'\u001b[39m\u001b[33mGET\u001b[39m\u001b[33m'\u001b[39m, \u001b[33m'\u001b[39m\u001b[33mPOST\u001b[39m\u001b[33m'\u001b[39m])\n\u001b[32m      6\u001b[39m \u001b[38;5;28;01mdef\u001b[39;00m\u001b[38;5;250m \u001b[39m\u001b[34muser\u001b[39m():\n",
      "\u001b[31mModuleNotFoundError\u001b[39m: No module named 'flask'"
     ]
    }
   ],
   "source": [
    "from flask import Flask, request, jsonify\n",
    "\n",
    "app = Flask(__name__)\n",
    "\n",
    "@app.route('/user', methods=['GET', 'POST'])\n",
    "def user():\n",
    "    if request.method == 'GET':\n",
    "        return jsonify({\"message\": \"GET request received\"})\n",
    "    elif request.method == 'POST':\n",
    "        data = request.get_json()\n",
    "        return jsonify({\"message\": \"POST request received\", \"data\": data})\n"
   ]
  },
  {
   "cell_type": "code",
   "execution_count": null,
   "id": "7f430e09-e479-4ab9-ba89-635d5d0ad4ff",
   "metadata": {},
   "outputs": [],
   "source": [
    "# Q.NO.4. How do you render HTML templates in Flask?"
   ]
  },
  {
   "cell_type": "code",
   "execution_count": 5,
   "id": "7cd6f88f-c2db-4e03-ad7f-55cbf7cc3155",
   "metadata": {},
   "outputs": [
    {
     "ename": "SyntaxError",
     "evalue": "invalid character '│' (U+2502) (2335697234.py, line 2)",
     "output_type": "error",
     "traceback": [
      "  \u001b[36mCell\u001b[39m\u001b[36m \u001b[39m\u001b[32mIn[5]\u001b[39m\u001b[32m, line 2\u001b[39m\n\u001b[31m    \u001b[39m\u001b[31m│\u001b[39m\n    ^\n\u001b[31mSyntaxError\u001b[39m\u001b[31m:\u001b[39m invalid character '│' (U+2502)\n"
     ]
    }
   ],
   "source": [
    "your_project/\n",
    "│\n",
    "├── app.py\n",
    "├── templates/\n",
    "│   ├── index.html\n",
    "│   └── about.html\n",
    "\n",
    "<!-- templates/index.html -->\n",
    "<!DOCTYPE html>\n",
    "<html>\n",
    "<head>\n",
    "    <title>Flask Template</title>\n",
    "</head>\n",
    "<body>\n",
    "    <h1>Hello, {{ name }}!</h1>\n",
    "</body>\n",
    "</html>\n",
    "\n",
    "from flask import Flask, render_template\n",
    "\n",
    "app = Flask(__name__)\n",
    "\n",
    "@app.route('/')\n",
    "def home():\n",
    "    return render_template('index.html', name='Flask User')\n",
    "    \n"
   ]
  },
  {
   "cell_type": "code",
   "execution_count": null,
   "id": "354ca626-7810-4c0a-84da-fbb01f6fa47e",
   "metadata": {},
   "outputs": [],
   "source": [
    "# Q.NO.5. How can you generate URLs for routes in Flask using url_for?"
   ]
  },
  {
   "cell_type": "code",
   "execution_count": 6,
   "id": "c3432399-85ec-4b24-bd25-c435cf99d185",
   "metadata": {},
   "outputs": [
    {
     "ename": "ModuleNotFoundError",
     "evalue": "No module named 'flask'",
     "output_type": "error",
     "traceback": [
      "\u001b[31m---------------------------------------------------------------------------\u001b[39m",
      "\u001b[31mModuleNotFoundError\u001b[39m                       Traceback (most recent call last)",
      "\u001b[36mCell\u001b[39m\u001b[36m \u001b[39m\u001b[32mIn[6]\u001b[39m\u001b[32m, line 1\u001b[39m\n\u001b[32m----> \u001b[39m\u001b[32m1\u001b[39m \u001b[38;5;28;01mfrom\u001b[39;00m\u001b[38;5;250m \u001b[39m\u001b[34;01mflask\u001b[39;00m\u001b[38;5;250m \u001b[39m\u001b[38;5;28;01mimport\u001b[39;00m Flask, url_for\n\u001b[32m      3\u001b[39m app = Flask(\u001b[34m__name__\u001b[39m)\n\u001b[32m      5\u001b[39m \u001b[38;5;129m@app\u001b[39m.route(\u001b[33m'\u001b[39m\u001b[33m/about\u001b[39m\u001b[33m'\u001b[39m)\n\u001b[32m      6\u001b[39m \u001b[38;5;28;01mdef\u001b[39;00m\u001b[38;5;250m \u001b[39m\u001b[34mabout\u001b[39m():\n",
      "\u001b[31mModuleNotFoundError\u001b[39m: No module named 'flask'"
     ]
    }
   ],
   "source": [
    "from flask import Flask, url_for\n",
    "\n",
    "app = Flask(__name__)\n",
    "\n",
    "@app.route('/about')\n",
    "def about():\n",
    "    return \"About Page\"\n",
    "\n",
    "@app.route('/')\n",
    "def index():\n",
    "    \n",
    "    return f'<a href=\"{url_for(\"about\")}\">Go to About</a>'\n"
   ]
  },
  {
   "cell_type": "code",
   "execution_count": null,
   "id": "d0f7c883-6266-419b-8223-83cf88d9a4d9",
   "metadata": {},
   "outputs": [],
   "source": [
    "# Q.NO.6. How do you handle forms in Flask?"
   ]
  },
  {
   "cell_type": "code",
   "execution_count": 7,
   "id": "33778f1d-392a-449f-9771-7b69e4e3235b",
   "metadata": {},
   "outputs": [
    {
     "ename": "SyntaxError",
     "evalue": "invalid character '├' (U+251C) (627074096.py, line 2)",
     "output_type": "error",
     "traceback": [
      "  \u001b[36mCell\u001b[39m\u001b[36m \u001b[39m\u001b[32mIn[7]\u001b[39m\u001b[32m, line 2\u001b[39m\n\u001b[31m    \u001b[39m\u001b[31m├── app.py\u001b[39m\n    ^\n\u001b[31mSyntaxError\u001b[39m\u001b[31m:\u001b[39m invalid character '├' (U+251C)\n"
     ]
    }
   ],
   "source": [
    "your_project/\n",
    "├── app.py\n",
    "└── templates/\n",
    "    ├── form.html\n",
    "    └── success.html\n",
    "\n",
    "<!-- templates/form.html -->\n",
    "<!DOCTYPE html>\n",
    "<html>\n",
    "<head><title>Form Example</title></head>\n",
    "<body>\n",
    "  <h2>Enter Your Name</h2>\n",
    "  <form action=\"/submit\" method=\"post\">\n",
    "    <input type=\"text\" name=\"name\" required>\n",
    "    <input type=\"submit\" value=\"Submit\">\n",
    "  </form>\n",
    "</body>\n",
    "</html>\n",
    "\n",
    "from flask import Flask, render_template, request\n",
    "\n",
    "app = Flask(__name__)\n",
    "\n",
    "@app.route('/')\n",
    "def form():\n",
    "    return render_template('form.html')\n",
    "\n",
    "@app.route('/submit', methods=['POST'])\n",
    "def submit():\n",
    "    name = request.form['name']  # Access form input\n",
    "    return render_template('success.html', name=name)\n",
    "\n",
    "<!-- templates/success.html -->\n",
    "<!DOCTYPE html>\n",
    "<html>\n",
    "<head><title>Submitted</title></head>\n",
    "<body>\n",
    "  <h2>Thank you, {{ name }}!</h2>\n",
    "</body>\n",
    "</html>\n"
   ]
  },
  {
   "cell_type": "code",
   "execution_count": null,
   "id": "3e6ec54e-a946-4ca6-bdf0-5176fd5482cf",
   "metadata": {},
   "outputs": [],
   "source": [
    "# Q.NO.7. M How can you validate form data in Flask?"
   ]
  },
  {
   "cell_type": "code",
   "execution_count": 9,
   "id": "97adcede-2de1-431d-a7a0-29cf8081aaaf",
   "metadata": {},
   "outputs": [
    {
     "ename": "SyntaxError",
     "evalue": "invalid syntax (2879005290.py, line 20)",
     "output_type": "error",
     "traceback": [
      "  \u001b[36mCell\u001b[39m\u001b[36m \u001b[39m\u001b[32mIn[9]\u001b[39m\u001b[32m, line 20\u001b[39m\n\u001b[31m    \u001b[39m\u001b[31m<form method=\"POST\">\u001b[39m\n    ^\n\u001b[31mSyntaxError\u001b[39m\u001b[31m:\u001b[39m invalid syntax\n"
     ]
    }
   ],
   "source": [
    "from flask import Flask, request, render_template, redirect, flash\n",
    "\n",
    "app = Flask(__name__)\n",
    "app.secret_key = 'secret'  \n",
    "\n",
    "@app.route('/', methods=['GET', 'POST'])\n",
    "def register():\n",
    "    if request.method == 'POST':\n",
    "        name = request.form.get('name')\n",
    "        email = request.form.get('email')\n",
    "\n",
    "        if not name or not email:\n",
    "            flash(\"Both name and email are required.\")\n",
    "            return redirect('/')\n",
    "        return f\"Welcome, {name}!\"\n",
    "\n",
    "    return render_template('form.html')\n",
    "\n",
    "\n",
    "<form method=\"POST\">\n",
    "  Name: <input type=\"text\" name=\"name\"><br>\n",
    "  Email: <input type=\"text\" name=\"email\"><br>\n",
    "  <input type=\"submit\" value=\"Submit\">\n",
    "</form>\n",
    "{% with messages = get_flashed_messages() %}\n",
    "  {% for message in messages %}\n",
    "    <p style=\"color:red;\">{{ message }}</p>\n",
    "  {% endfor %}\n",
    "{% endwith %}\n"
   ]
  },
  {
   "cell_type": "code",
   "execution_count": null,
   "id": "fa47996f-167e-4174-834e-13a20029d4d9",
   "metadata": {},
   "outputs": [],
   "source": [
    "# Q.NO.8. How do you manage sessions in Flask?"
   ]
  },
  {
   "cell_type": "code",
   "execution_count": 10,
   "id": "87ee3447-689e-41c1-aa7a-28fe5566203b",
   "metadata": {},
   "outputs": [
    {
     "ename": "ModuleNotFoundError",
     "evalue": "No module named 'flask'",
     "output_type": "error",
     "traceback": [
      "\u001b[31m---------------------------------------------------------------------------\u001b[39m",
      "\u001b[31mModuleNotFoundError\u001b[39m                       Traceback (most recent call last)",
      "\u001b[36mCell\u001b[39m\u001b[36m \u001b[39m\u001b[32mIn[10]\u001b[39m\u001b[32m, line 1\u001b[39m\n\u001b[32m----> \u001b[39m\u001b[32m1\u001b[39m \u001b[38;5;28;01mfrom\u001b[39;00m\u001b[38;5;250m \u001b[39m\u001b[34;01mflask\u001b[39;00m\u001b[38;5;250m \u001b[39m\u001b[38;5;28;01mimport\u001b[39;00m Flask, session, redirect, url_for, request, render_template\n\u001b[32m      3\u001b[39m app = Flask(\u001b[34m__name__\u001b[39m)\n\u001b[32m      4\u001b[39m app.secret_key = \u001b[33m'\u001b[39m\u001b[33myour_secret_key\u001b[39m\u001b[33m'\u001b[39m  \n",
      "\u001b[31mModuleNotFoundError\u001b[39m: No module named 'flask'"
     ]
    }
   ],
   "source": [
    "from flask import Flask, session, redirect, url_for, request, render_template\n",
    "\n",
    "app = Flask(__name__)\n",
    "app.secret_key = 'your_secret_key'  \n",
    "\n",
    "@app.route('/', methods=['GET', 'POST'])\n",
    "def login():\n",
    "    if request.method == 'POST':\n",
    "        username = request.form['username']\n",
    "        session['username'] = username  \n",
    "        return redirect(url_for('profile'))\n",
    "    return '''\n",
    "        <form method=\"post\">\n",
    "            Username: <input type=\"text\" name=\"username\">\n",
    "            <input type=\"submit\" value=\"Login\">\n",
    "        </form>\n",
    "    '''\n",
    "\n",
    "@app.route('/profile')\n",
    "def profile():\n",
    "    if 'username' in session:\n",
    "        return f\"Logged in as {session['username']}\"\n",
    "    return redirect(url_for('login'))\n",
    "\n",
    "@app.route('/logout')\n",
    "def logout():\n",
    "    session.pop('username', None)  \n",
    "    return redirect(url_for('login'))\n"
   ]
  },
  {
   "cell_type": "code",
   "execution_count": null,
   "id": "e261d32d-bece-4254-a979-4484d083dec6",
   "metadata": {},
   "outputs": [],
   "source": [
    "# Q.NO.9.  How do you redirect to a different route in Flask?"
   ]
  },
  {
   "cell_type": "code",
   "execution_count": 11,
   "id": "8cbfdb65-a299-4bd3-8cdc-9b754d314955",
   "metadata": {},
   "outputs": [
    {
     "ename": "ModuleNotFoundError",
     "evalue": "No module named 'flask'",
     "output_type": "error",
     "traceback": [
      "\u001b[31m---------------------------------------------------------------------------\u001b[39m",
      "\u001b[31mModuleNotFoundError\u001b[39m                       Traceback (most recent call last)",
      "\u001b[36mCell\u001b[39m\u001b[36m \u001b[39m\u001b[32mIn[11]\u001b[39m\u001b[32m, line 1\u001b[39m\n\u001b[32m----> \u001b[39m\u001b[32m1\u001b[39m \u001b[38;5;28;01mfrom\u001b[39;00m\u001b[38;5;250m \u001b[39m\u001b[34;01mflask\u001b[39;00m\u001b[38;5;250m \u001b[39m\u001b[38;5;28;01mimport\u001b[39;00m Flask, redirect, url_for\n\u001b[32m      3\u001b[39m app = Flask(\u001b[34m__name__\u001b[39m)\n\u001b[32m      5\u001b[39m \u001b[38;5;129m@app\u001b[39m.route(\u001b[33m'\u001b[39m\u001b[33m/\u001b[39m\u001b[33m'\u001b[39m)\n\u001b[32m      6\u001b[39m \u001b[38;5;28;01mdef\u001b[39;00m\u001b[38;5;250m \u001b[39m\u001b[34mhome\u001b[39m():\n",
      "\u001b[31mModuleNotFoundError\u001b[39m: No module named 'flask'"
     ]
    }
   ],
   "source": [
    "from flask import Flask, redirect, url_for\n",
    "\n",
    "app = Flask(__name__)\n",
    "\n",
    "@app.route('/')\n",
    "def home():\n",
    "    return redirect(url_for('welcome'))\n",
    "\n",
    "@app.route('/welcome')\n",
    "def welcome():\n",
    "    return \"Welcome to the pw skills!\"\n"
   ]
  },
  {
   "cell_type": "code",
   "execution_count": null,
   "id": "39794dd7-34fe-49c3-983b-e072b52f0fb8",
   "metadata": {},
   "outputs": [],
   "source": [
    "# Q.NO.10. How do you handle errors in Flask (e.g., 404)?"
   ]
  },
  {
   "cell_type": "code",
   "execution_count": 12,
   "id": "caa6ede1-ead7-4091-94e7-8379a46e88e2",
   "metadata": {},
   "outputs": [
    {
     "ename": "SyntaxError",
     "evalue": "invalid character '’' (U+2019) (1528877030.py, line 14)",
     "output_type": "error",
     "traceback": [
      "  \u001b[36mCell\u001b[39m\u001b[36m \u001b[39m\u001b[32mIn[12]\u001b[39m\u001b[32m, line 14\u001b[39m\n\u001b[31m    \u001b[39m\u001b[31m<p>The page you are looking for doesn’t exist.</p>\u001b[39m\n                                         ^\n\u001b[31mSyntaxError\u001b[39m\u001b[31m:\u001b[39m invalid character '’' (U+2019)\n"
     ]
    }
   ],
   "source": [
    "from flask import Flask, render_template\n",
    "\n",
    "app = Flask(__name__)\n",
    "\n",
    "@app.errorhandler(404)\n",
    "def page_not_found(e):\n",
    "    return render_template('404.html'), 404\n",
    "\n",
    "<!DOCTYPE html>\n",
    "<html>\n",
    "<head><title>404 Not Found</title></head>\n",
    "<body>\n",
    "  <h1>Oops! Page not found.</h1>\n",
    "  <p>The page you are looking for doesn’t exist.</p>\n",
    "</body>\n",
    "</html>\n"
   ]
  },
  {
   "cell_type": "code",
   "execution_count": null,
   "id": "982799b7-adc5-4950-b028-ecd8250a6f59",
   "metadata": {},
   "outputs": [],
   "source": [
    "# Q.NO. 11. How do you structure a Flask app using Blueprints?"
   ]
  },
  {
   "cell_type": "code",
   "execution_count": 13,
   "id": "686a4cce-8f2c-457f-87a3-5fa2d84f033e",
   "metadata": {},
   "outputs": [
    {
     "ename": "ModuleNotFoundError",
     "evalue": "No module named 'flask'",
     "output_type": "error",
     "traceback": [
      "\u001b[31m---------------------------------------------------------------------------\u001b[39m",
      "\u001b[31mModuleNotFoundError\u001b[39m                       Traceback (most recent call last)",
      "\u001b[36mCell\u001b[39m\u001b[36m \u001b[39m\u001b[32mIn[13]\u001b[39m\u001b[32m, line 1\u001b[39m\n\u001b[32m----> \u001b[39m\u001b[32m1\u001b[39m \u001b[38;5;28;01mfrom\u001b[39;00m\u001b[38;5;250m \u001b[39m\u001b[34;01mflask\u001b[39;00m\u001b[38;5;250m \u001b[39m\u001b[38;5;28;01mimport\u001b[39;00m Blueprint, render_template\n\u001b[32m      3\u001b[39m auth_bp = Blueprint(\u001b[33m'\u001b[39m\u001b[33mauth\u001b[39m\u001b[33m'\u001b[39m, \u001b[34m__name__\u001b[39m, url_prefix=\u001b[33m'\u001b[39m\u001b[33m/auth\u001b[39m\u001b[33m'\u001b[39m)\n\u001b[32m      5\u001b[39m \u001b[38;5;129m@auth_bp\u001b[39m.route(\u001b[33m'\u001b[39m\u001b[33m/login\u001b[39m\u001b[33m'\u001b[39m)\n\u001b[32m      6\u001b[39m \u001b[38;5;28;01mdef\u001b[39;00m\u001b[38;5;250m \u001b[39m\u001b[34mlogin\u001b[39m():\n",
      "\u001b[31mModuleNotFoundError\u001b[39m: No module named 'flask'"
     ]
    }
   ],
   "source": [
    "from flask import Blueprint, render_template\n",
    "\n",
    "auth_bp = Blueprint('auth', __name__, url_prefix='/auth')\n",
    "\n",
    "@auth_bp.route('/login')\n",
    "def login():\n",
    "    return render_template('login.html')\n",
    "\n",
    "@auth_bp.route('/logout')\n",
    "def logout():\n",
    "    return \"Logged out\"\n",
    "\n",
    "from .routes import auth_bp\n",
    "\n",
    "from flask import Flask\n",
    "from auth.routes import auth_bp  \n",
    "\n",
    "app = Flask(__name__)\n",
    "app.register_blueprint(auth_bp)  \n",
    "\n",
    "@app.route('/')\n",
    "def index():\n",
    "    return \"Welcome to the main app\"\n"
   ]
  },
  {
   "cell_type": "code",
   "execution_count": null,
   "id": "bb8656a8-ee1c-4ee0-8262-044ce9843857",
   "metadata": {},
   "outputs": [],
   "source": [
    "# Q.NO.12. How do you define a custom Jinja filter in Flask?"
   ]
  },
  {
   "cell_type": "code",
   "execution_count": 14,
   "id": "078adf30-59c1-4f5a-b4a8-80b6e1d731ea",
   "metadata": {},
   "outputs": [
    {
     "ename": "ModuleNotFoundError",
     "evalue": "No module named 'flask'",
     "output_type": "error",
     "traceback": [
      "\u001b[31m---------------------------------------------------------------------------\u001b[39m",
      "\u001b[31mModuleNotFoundError\u001b[39m                       Traceback (most recent call last)",
      "\u001b[36mCell\u001b[39m\u001b[36m \u001b[39m\u001b[32mIn[14]\u001b[39m\u001b[32m, line 4\u001b[39m\n\u001b[32m      1\u001b[39m \u001b[38;5;28;01mdef\u001b[39;00m\u001b[38;5;250m \u001b[39m\u001b[34mreverse_string\u001b[39m(s):\n\u001b[32m      2\u001b[39m     \u001b[38;5;28;01mreturn\u001b[39;00m s[::-\u001b[32m1\u001b[39m]\n\u001b[32m----> \u001b[39m\u001b[32m4\u001b[39m \u001b[38;5;28;01mfrom\u001b[39;00m\u001b[38;5;250m \u001b[39m\u001b[34;01mflask\u001b[39;00m\u001b[38;5;250m \u001b[39m\u001b[38;5;28;01mimport\u001b[39;00m Flask\n\u001b[32m      6\u001b[39m app = Flask(\u001b[34m__name__\u001b[39m)\n\u001b[32m      7\u001b[39m app.jinja_env.filters[\u001b[33m'\u001b[39m\u001b[33mreverse\u001b[39m\u001b[33m'\u001b[39m] = reverse_string\n",
      "\u001b[31mModuleNotFoundError\u001b[39m: No module named 'flask'"
     ]
    }
   ],
   "source": [
    "def reverse_string(s):\n",
    "    return s[::-1]\n",
    "\n",
    "from flask import Flask\n",
    "\n",
    "app = Flask(__name__)\n",
    "app.jinja_env.filters['reverse'] = reverse_string\n"
   ]
  },
  {
   "cell_type": "code",
   "execution_count": null,
   "id": "ea026af0-29de-434d-9c83-a12538990a82",
   "metadata": {},
   "outputs": [],
   "source": [
    "# Q.NO.13. M How can you redirect with query parameters in Flask?"
   ]
  },
  {
   "cell_type": "code",
   "execution_count": 15,
   "id": "2bd017f6-9db6-4df3-8844-89e8a15508f3",
   "metadata": {},
   "outputs": [
    {
     "ename": "ModuleNotFoundError",
     "evalue": "No module named 'flask'",
     "output_type": "error",
     "traceback": [
      "\u001b[31m---------------------------------------------------------------------------\u001b[39m",
      "\u001b[31mModuleNotFoundError\u001b[39m                       Traceback (most recent call last)",
      "\u001b[36mCell\u001b[39m\u001b[36m \u001b[39m\u001b[32mIn[15]\u001b[39m\u001b[32m, line 1\u001b[39m\n\u001b[32m----> \u001b[39m\u001b[32m1\u001b[39m \u001b[38;5;28;01mfrom\u001b[39;00m\u001b[38;5;250m \u001b[39m\u001b[34;01mflask\u001b[39;00m\u001b[38;5;250m \u001b[39m\u001b[38;5;28;01mimport\u001b[39;00m Flask, redirect, url_for, request\n\u001b[32m      3\u001b[39m app = Flask(\u001b[34m__name__\u001b[39m)\n\u001b[32m      5\u001b[39m \u001b[38;5;129m@app\u001b[39m.route(\u001b[33m'\u001b[39m\u001b[33m/\u001b[39m\u001b[33m'\u001b[39m)\n\u001b[32m      6\u001b[39m \u001b[38;5;28;01mdef\u001b[39;00m\u001b[38;5;250m \u001b[39m\u001b[34mindex\u001b[39m():\n",
      "\u001b[31mModuleNotFoundError\u001b[39m: No module named 'flask'"
     ]
    }
   ],
   "source": [
    "from flask import Flask, redirect, url_for, request\n",
    "\n",
    "app = Flask(__name__)\n",
    "\n",
    "@app.route('/')\n",
    "def index():\n",
    "    \n",
    "    return redirect(url_for('search', query='flask'))\n",
    "\n",
    "@app.route('/search')\n",
    "def search():\n",
    "    q = request.args.get('query')  \n",
    "    return f\"Search results for: {q}\"\n"
   ]
  },
  {
   "cell_type": "code",
   "execution_count": null,
   "id": "33980d6f-61f9-4f8c-abd3-b00419c80a73",
   "metadata": {},
   "outputs": [],
   "source": [
    "# Q.NO. 14. How do you return JSON responses in Flask?"
   ]
  },
  {
   "cell_type": "code",
   "execution_count": 16,
   "id": "2d997820-bfd8-420b-a85f-d9a2a44d3359",
   "metadata": {},
   "outputs": [
    {
     "ename": "ModuleNotFoundError",
     "evalue": "No module named 'flask'",
     "output_type": "error",
     "traceback": [
      "\u001b[31m---------------------------------------------------------------------------\u001b[39m",
      "\u001b[31mModuleNotFoundError\u001b[39m                       Traceback (most recent call last)",
      "\u001b[36mCell\u001b[39m\u001b[36m \u001b[39m\u001b[32mIn[16]\u001b[39m\u001b[32m, line 1\u001b[39m\n\u001b[32m----> \u001b[39m\u001b[32m1\u001b[39m \u001b[38;5;28;01mfrom\u001b[39;00m\u001b[38;5;250m \u001b[39m\u001b[34;01mflask\u001b[39;00m\u001b[38;5;250m \u001b[39m\u001b[38;5;28;01mimport\u001b[39;00m Flask, jsonify\n\u001b[32m      3\u001b[39m app = Flask(\u001b[34m__name__\u001b[39m)\n\u001b[32m      5\u001b[39m \u001b[38;5;129m@app\u001b[39m.route(\u001b[33m'\u001b[39m\u001b[33m/api/user\u001b[39m\u001b[33m'\u001b[39m)\n\u001b[32m      6\u001b[39m \u001b[38;5;28;01mdef\u001b[39;00m\u001b[38;5;250m \u001b[39m\u001b[34mget_user\u001b[39m():\n",
      "\u001b[31mModuleNotFoundError\u001b[39m: No module named 'flask'"
     ]
    }
   ],
   "source": [
    "from flask import Flask, jsonify\n",
    "\n",
    "app = Flask(__name__)\n",
    "\n",
    "@app.route('/api/user')\n",
    "def get_user():\n",
    "    return jsonify({\n",
    "        'name': 'Alice',\n",
    "        'email': 'alice@example.com',\n",
    "        'active': True\n",
    "    })\n"
   ]
  },
  {
   "cell_type": "code",
   "execution_count": null,
   "id": "b7d32148-b66c-4f6b-a3ba-f756397413f4",
   "metadata": {},
   "outputs": [],
   "source": [
    "# Q.NO. 15.  How do you capture URL parameters in Flask?"
   ]
  },
  {
   "cell_type": "code",
   "execution_count": 17,
   "id": "6dfbc55c-b8ae-417f-98b4-2f6e49ec90b5",
   "metadata": {},
   "outputs": [
    {
     "ename": "ModuleNotFoundError",
     "evalue": "No module named 'flask'",
     "output_type": "error",
     "traceback": [
      "\u001b[31m---------------------------------------------------------------------------\u001b[39m",
      "\u001b[31mModuleNotFoundError\u001b[39m                       Traceback (most recent call last)",
      "\u001b[36mCell\u001b[39m\u001b[36m \u001b[39m\u001b[32mIn[17]\u001b[39m\u001b[32m, line 1\u001b[39m\n\u001b[32m----> \u001b[39m\u001b[32m1\u001b[39m \u001b[38;5;28;01mfrom\u001b[39;00m\u001b[38;5;250m \u001b[39m\u001b[34;01mflask\u001b[39;00m\u001b[38;5;250m \u001b[39m\u001b[38;5;28;01mimport\u001b[39;00m Flask\n\u001b[32m      3\u001b[39m app = Flask(\u001b[34m__name__\u001b[39m)\n\u001b[32m      5\u001b[39m \u001b[38;5;129m@app\u001b[39m.route(\u001b[33m'\u001b[39m\u001b[33m/user/<username>\u001b[39m\u001b[33m'\u001b[39m)\n\u001b[32m      6\u001b[39m \u001b[38;5;28;01mdef\u001b[39;00m\u001b[38;5;250m \u001b[39m\u001b[34mshow_user\u001b[39m(username):\n",
      "\u001b[31mModuleNotFoundError\u001b[39m: No module named 'flask'"
     ]
    }
   ],
   "source": [
    "from flask import Flask\n",
    "\n",
    "app = Flask(__name__)\n",
    "\n",
    "@app.route('/user/<username>')\n",
    "def show_user(username):\n",
    "    return f\"Hello, {username}!\"\n"
   ]
  },
  {
   "cell_type": "code",
   "execution_count": null,
   "id": "898d7529-988f-429e-afa1-8dbe4e0d462f",
   "metadata": {},
   "outputs": [],
   "source": []
  },
  {
   "cell_type": "code",
   "execution_count": null,
   "id": "3d476225-c2aa-4d13-9f7e-9fc9d01a44b5",
   "metadata": {},
   "outputs": [],
   "source": []
  },
  {
   "cell_type": "code",
   "execution_count": null,
   "id": "ee9a151e-b943-46a7-871a-34f0a8872cf7",
   "metadata": {},
   "outputs": [],
   "source": []
  }
 ],
 "metadata": {
  "kernelspec": {
   "display_name": "Python 3 (ipykernel)",
   "language": "python",
   "name": "python3"
  },
  "language_info": {
   "codemirror_mode": {
    "name": "ipython",
    "version": 3
   },
   "file_extension": ".py",
   "mimetype": "text/x-python",
   "name": "python",
   "nbconvert_exporter": "python",
   "pygments_lexer": "ipython3",
   "version": "3.13.3"
  }
 },
 "nbformat": 4,
 "nbformat_minor": 5
}
